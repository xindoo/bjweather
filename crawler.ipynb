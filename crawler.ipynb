{
 "cells": [
  {
   "cell_type": "code",
   "execution_count": 6,
   "metadata": {},
   "outputs": [],
   "source": [
    "# -*- coding: utf-8 -*-\n",
    "import scrapy\n",
    "import re\n",
    "\n",
    "\n",
    "class GetdataSpider(scrapy.Spider):\n",
    "    usedUrl = set()\n",
    "    url = 'http://www.tianqihoubao.com'\n",
    "    name = 'getdata'\n",
    "    allowed_domains = ['www.tianqihoubao.com']\n",
    "    start_urls = ['http://www.tianqihoubao.com/lishi/beijing/month/201812.html']\n",
    "\n",
    "    def parse(self, response):\n",
    "        print(\"hello \")\n",
    "        trs = response.xpath('//tr')\n",
    "        isFirst = True\n",
    "        invisibleChar = re.compile(r'[\\s]+')\n",
    "        nonDigit = re.compile(r'[^\\d]+')\n",
    "        for tr in trs:\n",
    "            if isFirst:\n",
    "                isFirst = False\n",
    "                continue\n",
    "            tds = tr.xpath('./td')\n",
    "            date = re.sub(invisibleChar, \"\",tds[0].xpath('./a/text()').extract()[0])\n",
    "            date = re.sub(nonDigit, '-', date)[0:-1]\n",
    "            yield {\n",
    "                \"date\":date,\n",
    "                \"weather\":re.sub(invisibleChar, \"\",tds[1].xpath('./text()').extract()[0]),\n",
    "                \"temperature\":re.sub(invisibleChar, \"\",tds[2].xpath('./text()').extract()[0]),\n",
    "                \"wind\":re.sub(invisibleChar, \"\",tds[3].xpath('./text()').extract()[0])\n",
    "            }\n",
    "        nextUrls = response.xpath('//div[@class=\"months\"]/a/@href')\n",
    "        self.usedUrl.add(response.url)\n",
    "        for nextUrl in nextUrls: \n",
    "            url = self.url+nextUrl.extract()\n",
    "            if url in self.usedUrl:\n",
    "                continue\n",
    "            print(\"*********\" + url)\n",
    "            yield scrapy.Request(url, callback=self.parse)\n",
    "            break\n",
    "\n",
    "spider = GetdataSpider()\n",
    "url = 'http://www.tianqihoubao.com/lishi/beijing/month/201811.html'\n",
    "response=scrapy.Request(url, callback=spider.parse)\n",
    "    "
   ]
  },
  {
   "cell_type": "code",
   "execution_count": 9,
   "metadata": {},
   "outputs": [
    {
     "data": {
      "text/plain": [
       "scrapy.http.request.Request"
      ]
     },
     "execution_count": 9,
     "metadata": {},
     "output_type": "execute_result"
    }
   ],
   "source": [
    "type(response)\n",
    "response."
   ]
  },
  {
   "cell_type": "code",
   "execution_count": 8,
   "metadata": {},
   "outputs": [
    {
     "ename": "AttributeError",
     "evalue": "'Request' object has no attribute 'xpath'",
     "output_type": "error",
     "traceback": [
      "\u001b[0;31m---------------------------------------------------------------------------\u001b[0m",
      "\u001b[0;31mAttributeError\u001b[0m                            Traceback (most recent call last)",
      "\u001b[0;32m<ipython-input-8-3ff82ad38410>\u001b[0m in \u001b[0;36m<module>\u001b[0;34m\u001b[0m\n\u001b[0;32m----> 1\u001b[0;31m \u001b[0mresponse\u001b[0m\u001b[0;34m.\u001b[0m\u001b[0mxpath\u001b[0m\u001b[0;34m(\u001b[0m\u001b[0;34m'/'\u001b[0m\u001b[0;34m)\u001b[0m\u001b[0;34m.\u001b[0m\u001b[0mextract\u001b[0m\u001b[0;34m(\u001b[0m\u001b[0;34m)\u001b[0m\u001b[0;34m\u001b[0m\u001b[0m\n\u001b[0m",
      "\u001b[0;31mAttributeError\u001b[0m: 'Request' object has no attribute 'xpath'"
     ]
    }
   ],
   "source": []
  },
  {
   "cell_type": "code",
   "execution_count": null,
   "metadata": {},
   "outputs": [],
   "source": []
  }
 ],
 "metadata": {
  "kernelspec": {
   "display_name": "Python 3",
   "language": "python",
   "name": "python3"
  },
  "language_info": {
   "codemirror_mode": {
    "name": "ipython",
    "version": 3
   },
   "file_extension": ".py",
   "mimetype": "text/x-python",
   "name": "python",
   "nbconvert_exporter": "python",
   "pygments_lexer": "ipython3",
   "version": "3.6.6"
  }
 },
 "nbformat": 4,
 "nbformat_minor": 2
}
